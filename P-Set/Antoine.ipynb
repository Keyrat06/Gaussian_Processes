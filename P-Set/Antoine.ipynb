{
 "cells": [
  {
   "cell_type": "markdown",
   "metadata": {},
   "source": [
    "# Problem Set - Gaussian Processes "
   ]
  },
  {
   "cell_type": "code",
   "execution_count": 1,
   "metadata": {},
   "outputs": [],
   "source": [
    "# The modules we will be using in this problem set\n",
    "import util, test # These are local modules please feel free to read through them\n",
    "from importlib import reload\n",
    "reload(util)\n",
    "reload(test)\n",
    "import numpy as np\n",
    "import matplotlib.pyplot as plt"
   ]
  },
  {
   "cell_type": "markdown",
   "metadata": {},
   "source": [
    "## Gaussian Processes##\n",
    "\n",
    "In this problem set, you will gain a deeper understanding of how Gaussian processes work by building a small library for Gaussian regression and classification. If you are having serious problems with this assignment, please feel free to ask on Piazza or refer to [Gaussian Processes: A Quick Introduction](A Quick Intro To Gaussian Proccesses.pdf)."
   ]
  },
  {
   "cell_type": "markdown",
   "metadata": {},
   "source": [
    "### Problems\n",
    "1. [Part 1 - Overview](#Part-1---Overview)\n",
    "  1. [Problem 1 (10 pts)](#Problem-1---Making-a-Simple-Kernal-%2810-pts%29)\n",
    "  2. [Problem 2 (5 pts)](#Problem-2---Making-a-Periodic-Kernal-%285-pts%29)\n",
    "2. [Part 2 - Regression](#Part-2---Regression)\n",
    "3. [Part 3 - Classification](#Part-3---Classification)"
   ]
  },
  {
   "cell_type": "markdown",
   "metadata": {},
   "source": [
    "# Part 1 - Overview"
   ]
  },
  {
   "cell_type": "markdown",
   "metadata": {},
   "source": [
    "As covered in lecture, Gaussian Processes (GPs) allow us to infer entire functions from a set of observations without extensive initial parametrizing. The power of GPs lies in the covariance matrix $\\Sigma$, which specifies the pairwise covariance between all of the points in your dataset. Knowing how a point is affected by all other points in the data allows us to adjust our beliefs about the shape of the underlying function as well as the uncertainty around this function every time a new observation is made.\n",
    "\n",
    "\n",
    "In lecture, we explained that a GP is, loosely speaking, an extension of a multivariate Gaussian distribution. Instead of a finite-dimension vector, a GP describes the distribution of infinite-dimension vectors, aka continuous functions. A GP fully inherits Gaussian properties from the multivariate Gaussian, which is why -when we assume a zero mean, which we can easily do-  it is fully specified by a positive semi-definite covariance matrix $\\Sigma$.\n",
    "\n",
    "\n",
    "In a multivariate Gaussian, we can easily compute the pairwise covariance between variables, since they are in finite amount, by simply applying the following formula, where $x$ and $x'$ are variables with respective means $\\mu_{x}$ and $\\mu_{x'}$: $$ cov(x, x') = \\frac{\\sum_{i=1}^{n}(x_{i}-\\mu_{x})(x'_{i}-\\mu_{x'})}{n-1}$$\n",
    "\n",
    "\n",
    "This formula fails for a GP, seeing how $n$ goes to $+\\infty$. For this reason, we need to find a generalized similarity relation between any two points in the data in the form of a function. We call this function a *kernel*, and it is the building block that will allow us to specify any GP, and then use it for regression and classification exercises. "
   ]
  },
  {
   "cell_type": "markdown",
   "metadata": {},
   "source": [
    "## Problem 1 - Making a Simple Kernel (10 pts)\n",
    "In the following problem, you will be designing a kernel for a dataset where your belief at a certain point is most affected by its neighbors. This behavior occurs everywhere in nature: when throwing a ball in the air, your most recent location will tell you the most information about where the ball will be next. \n",
    "\n",
    "The kernel you will implement below is the one we have focused on in our lecture:\n",
    "\n",
    "\n",
    "$$ k(x, x') = \\overbrace{\\sigma_{f}^{2}}^{\\text{prior covariance}}\\cdot\\hspace{2em}\\exp\\bigg[{\\frac{-(x-x')^{2}}{{2l^{2}}}}\\bigg] + \\overbrace{\\sigma_{n}^{2}}^{\\text{measurement noise}}\\cdot\\hspace{2em}\\delta(x, x')\\,$$ where $$\\delta(x_{i}, x_{j})= \\begin{cases} 1 & \\text{if}\\ x_{i}=x{j} \\\\0 & \\text{otherwise} \\end{cases}$$\n",
    "\n",
    "\n",
    "You can see clearly that the maximum allowed covariance will be $ \\sigma_{f}^{2} + \\sigma_{n}^{2}$. If $x \\approx x′$, then $k(x, x′)$ approaches this maximum, meaning $f(x)$ is nearly perfectly correlated with $f(x′)$. This is good: for our function to look smooth, neighbours must be alike.\n",
    "\n",
    "Now if $x$ is very distant from $x′$, we have instead $k(x,x′) \\approx 0$, i.e. the two points cannot ‘see’ each other. So, for example, during interpolation at new $x$ values, distant observations will have negligible effect. \n",
    "\n",
    "How much effect this separation has will depend on the length parameter, $l$. You will see the effect of changing $l$ later on in the assignment.\n",
    "\n",
    "In the following cell, please implement the `kernel()` function as per the equation above."
   ]
  },
  {
   "cell_type": "code",
   "execution_count": 4,
   "metadata": {
    "collapsed": true
   },
   "outputs": [],
   "source": [
    "def kernel(x0, x1, params, sigma_n):\n",
    "    diff = np.subtract.outer(x0, x1)\n",
    "    value = params[0]**2 * np.exp( -0.5 * (1.0/params[1]**2) * diff**2)\n",
    "    value[np.where(diff == 0.0)] += sigma_n\n",
    "    return value"
   ]
  },
  {
   "cell_type": "code",
   "execution_count": 5,
   "metadata": {},
   "outputs": [],
   "source": [
    "test.test_simple_kernel(kernel)"
   ]
  },
  {
   "cell_type": "code",
   "execution_count": 5,
   "metadata": {},
   "outputs": [
    {
     "data": {
      "image/png": "[encoded data removed]",
      "text/plain": [
       "<matplotlib.figure.Figure at 0x104fcbd68>"
      ]
     },
     "metadata": {},
     "output_type": "display_data"
    }
   ],
   "source": [
    "x = np.linspace(-5, 5, 50)\n",
    "sigma_n = 0.1\n",
    "params = [1, 2]\n",
    "K = kernel(x, x, params, sigma_n)\n",
    "util.visiualize_kernel(K)"
   ]
  },
  {
   "cell_type": "markdown",
   "metadata": {},
   "source": [
    "## Problem 2 - Making a Periodic Kernel (5 pts)\n",
    "In the previous part, we looked at a kernel for a dataset where distance to the point of interest was the heaviest contributing factor to the covariance. However, many datasets cannot be fully represented by such a relationship, such as periodic datasets. For instance, if you were looking to predict the temperature in July 2018, knowing the temperature in January 2018 would not tell you as much as the temperature in July 2017, even though January 2018 is closest to July 2018. In this following problem, you will implement a kernel that can accurately model periodic datasets. \n",
    "\n",
    "A periodic kernel will incorporate the distance kernel, because nearby points still affect your belief. You will be able to simply add a new term to your $k(x,x')$ from earlier in order to adjust your kernel to consider periodicity. \n",
    "\n",
    "Below is the formula for the periodic kernel:\n",
    "\n",
    "$$ k(x, x') = {\\sigma_{f}^{2}}\\cdot\\exp\\bigg[{\\frac{-(x-x')^{2}}{{2l^{2}}}}\\bigg] + \\overbrace{\\exp\\{-2\\sin^2[\\nu\\pi(x-x')]\\}}^{\\text{periodic term}} +\\sigma_{n}^{2}\\cdot\\delta(x, x') \\,$$\n",
    "\n",
    "where $\\nu$ is the frequency of your periodic function. \n",
    "\n",
    "Note that in this case, $x$ and $x'$ can be distant from one another (July 2017 and July 2018) yet still 'see' each other: $ k(x, x') \\neq 0$ when $x$ and $x'$ are very distant from one another.\n",
    "\n",
    "In the following cell, please implement the `periodic_kernel()` function as per the equation above."
   ]
  },
  {
   "cell_type": "code",
   "execution_count": 6,
   "metadata": {
    "collapsed": true
   },
   "outputs": [],
   "source": [
    "def periodic_kernel(x0, x1, params, sigma_n):\n",
    "    diff = np.subtract.outer(x0, x1)\n",
    "    value = params[0]**2 * np.exp( -0.5 * (1.0/params[1]**2) * diff**2)\n",
    "    value += params[2]**2 * np.exp(-2 * np.sin(params[3]*diff)**2)\n",
    "    value[np.where(diff == 0.0)] += sigma_n**2\n",
    "    return value"
   ]
  },
  {
   "cell_type": "code",
   "execution_count": 7,
   "metadata": {
    "collapsed": true
   },
   "outputs": [],
   "source": [
    "test.test_periodic_kernel(periodic_kernel)"
   ]
  },
  {
   "cell_type": "code",
   "execution_count": 8,
   "metadata": {},
   "outputs": [
    {
     "data": {
      "image/png": "[encoded data removed]",
      "text/plain": [
       "<matplotlib.figure.Figure at 0x10df4d3c8>"
      ]
     },
     "metadata": {},
     "output_type": "display_data"
    }
   ],
   "source": [
    "x = np.linspace(-5, 5, 50)\n",
    "sigma_n = 0.1\n",
    "params = [1, 2, 2, 1]\n",
    "K = periodic_kernel(x, x, params, sigma_n)\n",
    "util.visiualize_kernel(K)"
   ]
  },
  {
   "cell_type": "markdown",
   "metadata": {},
   "source": [
    "# Part 2 - Regression"
   ]
  },
  {
   "cell_type": "code",
   "execution_count": 9,
   "metadata": {},
   "outputs": [
    {
     "data": {
      "image/png": "[encoded data removed]",
      "text/plain": [
       "<matplotlib.figure.Figure at 0x10df4dd30>"
      ]
     },
     "metadata": {},
     "output_type": "display_data"
    }
   ],
   "source": [
    "x, y = util.get_sample_data_1()\n",
    "util.scatter_raw_data(x, y)"
   ]
  },
  {
   "cell_type": "markdown",
   "metadata": {},
   "source": [
    "## Problem 3 - Getting the $\\Sigma$ Matrix (5 pts)\n",
    "You are now ready to build out the covariance matrix $\\Sigma$ that you will use for the Gaussian regression. This matrix makes use of 3 different components, each built with your kernel function $k()$. Assuming you have $n$ points in your prior, and are looking to infer $m$ values,  these components are:\n",
    "\n",
    "\n",
    "* $K$, the $n \\times n$ covariance matrix of your prior: $K_{i,j} = k(x_{i},x_{j})$\n",
    "\n",
    "\n",
    "$$ K=\n",
    "\\begin{bmatrix}\n",
    "    k(x_{1},x_{1})       & k(x_{1},x_{2}) & k(x_{1},x_{3}) & \\dots & k(x_{1},x_{n}) \\\\\n",
    "    k(x_{2},x_{1})       & k(x_{2},x_{2}) & k(x_{2},x_{3}) & \\dots & k(x_{2},x_{n}) \\\\\n",
    "    k(x_{3},x_{1})       & k(x_{3},x_{2}) & k(x_{3},x_{3}) & \\dots & k(x_{3},x_{n}) \\\\\n",
    "    \\hphantom{\\ddots}  & \\ddots& \\ddots\\\\\n",
    "    k(x_{n},x_{1})       & k(x_{n},x_{2}) & k(x_{n},x_{3}) & \\dots & k(x_{n},x_{n}) \\\\\n",
    "\\end{bmatrix}$$\n",
    "\n",
    "\n",
    "* $K_{*}$, the $m \\times n$ matrix containing the kernel function evaluated between your $m$ points of interest $x'_{i}$ and each point in your prior: $K^{*}_{i,j} = k(x'_{i},x_{j})$\n",
    "\n",
    "\n",
    "$$ K_{*}=\n",
    "\\begin{bmatrix}\n",
    "    k(x'_{1},x_{1})       & k(x'_{1},x_{2}) & k(x'_{1},x_{3}) & \\dots & k(x'_{1},x_{n}) \\\\\n",
    "    \\hphantom{\\ddots}  & \\ddots& \\ddots\\\\\n",
    "    k(x'_{m},x_{1})       & k(x'_{m},x_{2}) & k(x'_{m},x_{3}) & \\dots & k(x'_{m},x_{n}) \\\\\n",
    "\\end{bmatrix}$$\n",
    "\n",
    "\n",
    "* $K_{**}$, the $m \\times m$ matrix containing the kernel function evaluated between your $m$ points of interest and themselves: $K^{**}_{i,j} = k(x'_{i},x'_{j})$\n",
    "\n",
    "\n",
    "$$ K_{**}=\n",
    "\\begin{bmatrix}\n",
    "    k(x'_{1},x'_{1})       & k(x'_{1},x'_{2}) & k(x'_{1},x'_{3}) & \\dots & k(x'_{1},x'_{m}) \\\\\n",
    "    \\hphantom{\\ddots}  & \\ddots& \\ddots\\\\\n",
    "    k(x'_{m},x'_{1})       & k(x'_{m},x'_{2}) & k(x'_{m},x'_{3}) & \\dots & k(x'_{m},x'_{m}) \\\\\n",
    "\\end{bmatrix}$$\n",
    "\n",
    "\n",
    "With those 3 matrices, you can build $\\Sigma$ as follows:\n",
    "$$ \\Sigma =\n",
    "\\begin{bmatrix}\n",
    "K & K_{*}^{\\intercal} \\\\ K_{*} & K_{**}\\\\\n",
    "\\end{bmatrix}$$\n",
    "\n",
    "\n",
    "In the cell below, please implement `get_Ks()` by writing a function that returns 3 items: $K$, $K_{*}$, $K_{**}$"
   ]
  },
  {
   "cell_type": "code",
   "execution_count": 10,
   "metadata": {
    "collapsed": true
   },
   "outputs": [],
   "source": [
    "def get_Ks(x_new, x, kernel, theta):\n",
    "    K = kernel(x, x, theta[:-1], theta[-1]) # K\n",
    "    KS = kernel(x_new, x, theta[:-1], theta[-1]) # K*\n",
    "    KSS = kernel(x_new, x_new, theta[:-1], theta[-1]) # K**\n",
    "    return K, KS, KSS"
   ]
  },
  {
   "cell_type": "code",
   "execution_count": 11,
   "metadata": {
    "collapsed": true
   },
   "outputs": [],
   "source": [
    "test.test_get_Ks(get_Ks, kernel)"
   ]
  },
  {
   "cell_type": "code",
   "execution_count": 12,
   "metadata": {},
   "outputs": [
    {
     "data": {
      "image/png": "[encoded data removed]",
      "text/plain": [
       "<matplotlib.figure.Figure at 0x10e4024e0>"
      ]
     },
     "metadata": {},
     "output_type": "display_data"
    }
   ],
   "source": [
    "theta = [1, 3, 0.1]\n",
    "x_new = np.array([0, 1, 2, 4, 5])\n",
    "K, KS, KSS = get_Ks(x_new, x, kernel, theta)\n",
    "util.visiualize_Ks(K, KS, KSS)"
   ]
  },
  {
   "cell_type": "markdown",
   "metadata": {},
   "source": [
    "## Problem 4 - Regression GP (20 pts)\n",
    "\n",
    "With your posterior covariance matrix $\\Sigma$ set up above, you are now ready to run through the regression. What we want to know is the value of $ p(y^{*}|\\mathbf{y} )$, which represents how likely a certain prediction for $y^{*}$ is given your data $\\mathbf{y} $. \n",
    "\n",
    "It turns out this probability is Gaussian distributed:\n",
    "\n",
    "\n",
    "$$y^{*}|\\mathbf{y} \\sim \\mathcal{N} (K_{*}K^{-1}\\mathbf{y}, K_{**} - K_{*}K^{-1}K^{\\intercal}_{*})\n",
    ",$$ \n",
    "\n",
    "which makes our best estimate for $y^{*}$ simply the mean of this Gaussian: \n",
    "\n",
    "\n",
    "$$\\overline{y}_{*} = K_{*}K^{-1}\\mathbf{y},$$\n",
    "\n",
    "\n",
    "Our best estimate of the uncertainty about this value is the variance of this Gaussian: \n",
    "\n",
    "\n",
    "$$var(y_{*}) = K_{**} - K_{*}K^{-1}K^{\\intercal}_{*}$$\n",
    "\n",
    "\n",
    "In the cell below, please implement `regression_GP`, which returns the mean and variance estimates of a prediction, according to the equations above. "
   ]
  },
  {
   "cell_type": "code",
   "execution_count": 13,
   "metadata": {
    "collapsed": true
   },
   "outputs": [],
   "source": [
    "def regression_GP(x_new, x, y, kernel, theta):\n",
    "    K, KS, KSS = get_Ks(x_new, x, kernel, theta)\n",
    "\n",
    "    y = np.matmul(np.matmul(KS, np.linalg.inv(K)),y)\n",
    "    var = KSS - KS.dot(np.linalg.inv(K).dot(KS.T))\n",
    "    var = np.diagonal(var)\n",
    "    return(y.squeeze(), var.squeeze())"
   ]
  },
  {
   "cell_type": "code",
   "execution_count": 14,
   "metadata": {
    "collapsed": true
   },
   "outputs": [],
   "source": [
    "test.test_regression(regression_GP, kernel)"
   ]
  },
  {
   "cell_type": "code",
   "execution_count": null,
   "metadata": {
    "collapsed": true
   },
   "outputs": [],
   "source": []
  },
  {
   "cell_type": "markdown",
   "metadata": {},
   "source": [
    "## Problem 5 - Manual Parameter Tuning (5 pts)"
   ]
  },
  {
   "cell_type": "code",
   "execution_count": null,
   "metadata": {
    "collapsed": true
   },
   "outputs": [],
   "source": []
  },
  {
   "cell_type": "markdown",
   "metadata": {},
   "source": [
    "# Part 3 - Classification"
   ]
  },
  {
   "cell_type": "markdown",
   "metadata": {},
   "source": [
    "## Problem 6"
   ]
  },
  {
   "cell_type": "markdown",
   "metadata": {},
   "source": [
    "Description of a sigmoid function\n",
    "<center>$S(x)$ = $\\dfrac{1}{1+e^{-x}}$</center>\n",
    "In this PSet use $S(x)$ as the sigmoid functiod in the implementation of the following problems"
   ]
  },
  {
   "cell_type": "markdown",
   "metadata": {},
   "source": [
    "Implement $S(x)$."
   ]
  },
  {
   "cell_type": "code",
   "execution_count": 27,
   "metadata": {
    "collapsed": true
   },
   "outputs": [],
   "source": [
    "def sigmoid(x):\n",
    "    return 1./(1+np.exp(-x))"
   ]
  },
  {
   "cell_type": "code",
   "execution_count": 28,
   "metadata": {},
   "outputs": [
    {
     "data": {
      "image/png": "[encoded data removed]",
      "text/plain": [
       "<matplotlib.figure.Figure at 0x10ee46160>"
      ]
     },
     "metadata": {},
     "output_type": "display_data"
    }
   ],
   "source": [
    "x, y = util.get_sample_classification_data()\n",
    "util.scatter_raw_data(x, y)"
   ]
  },
  {
   "cell_type": "markdown",
   "metadata": {},
   "source": [
    "Solve for the covariance matrices K, K$*$, and K$**$ using the function you implemented above"
   ]
  },
  {
   "cell_type": "code",
   "execution_count": 35,
   "metadata": {
    "collapsed": true
   },
   "outputs": [],
   "source": [
    "theta = [1, 3, 0]\n",
    "K, KS, KSS = get_Ks(x, x, kernel, theta)"
   ]
  },
  {
   "cell_type": "markdown",
   "metadata": {},
   "source": [
    "Find f"
   ]
  },
  {
   "cell_type": "code",
   "execution_count": 36,
   "metadata": {
    "collapsed": true
   },
   "outputs": [],
   "source": [
    "def find_f(K, y):\n",
    "    n = len(y) \n",
    "    \n",
    "    f = np.zeros(n)  \n",
    "    y_giv_f = np.zeros(n)\n",
    "    grad = np.zeros(n)\n",
    "    \n",
    "    for i in range(0, 100):\n",
    "        for j in range(n):\n",
    "            y_giv_f[j] = sigmoid(f[j]*y[j])\n",
    "            grad[j] = (1-y_giv_f[j])*y[j]\n",
    "        f = np.array(np.matmul(K, grad)).flatten()\n",
    "    for j in range(n):\n",
    "        y_giv_f[j] = sigmoid(f[j]*y[j])\n",
    "    return f, y_giv_f"
   ]
  },
  {
   "cell_type": "markdown",
   "metadata": {},
   "source": [
    "Write a function that solves for W given f and y"
   ]
  },
  {
   "cell_type": "code",
   "execution_count": 37,
   "metadata": {
    "collapsed": true
   },
   "outputs": [],
   "source": [
    "def calc_W(f, y):\n",
    "    n = len(y)\n",
    "    W = np.zeros(n)\n",
    "    for j in range(n):\n",
    "        sigmoid_v = sigmoid(f[j]*y[j])\n",
    "        W[j] = y[j]**2 * (1-sigmoid_v)*sigmoid_v\n",
    "    return W"
   ]
  },
  {
   "cell_type": "markdown",
   "metadata": {},
   "source": [
    "Write a function that solves for $K'$"
   ]
  },
  {
   "cell_type": "code",
   "execution_count": 38,
   "metadata": {
    "collapsed": true
   },
   "outputs": [],
   "source": [
    "def calculate_KP(K, W):\n",
    "    return K + (1.0/W)"
   ]
  },
  {
   "cell_type": "markdown",
   "metadata": {},
   "source": [
    "Now we have all the necessary components. "
   ]
  },
  {
   "cell_type": "code",
   "execution_count": 39,
   "metadata": {
    "collapsed": true
   },
   "outputs": [],
   "source": [
    "def GP(x_new, x, y, kernel, theta):\n",
    "    K = kernel(x, x, theta[:-1], theta[-1]) # K\n",
    "    KS = kernel(x_new, x, theta[:-1], theta[-1]) # K*\n",
    "    KSS = kernel(x_new, x_new, theta[:-1], theta[-1]) # K**\n",
    "    \n",
    "    f, y_giv_f = find_f(K, y)\n",
    "    W = calculate_W(f, y)\n",
    "    \n",
    "    KP = calculate_KP(K, W)\n",
    "\n",
    "    f_bar = np.matmul(np.matmul(KS, np.linalg.inv(K)), f)    \n",
    "    var = KSS - KS.dot(np.linalg.inv(KP).dot(KS.T))\n",
    "    var = np.diagonal(var)\n",
    "    return(f_bar.squeeze(), var.squeeze())"
   ]
  },
  {
   "cell_type": "markdown",
   "metadata": {},
   "source": [
    "We provided you with $\\theta$, now write a function that optimizes $\\theta$ for you. Ouput of function is a list."
   ]
  },
  {
   "cell_type": "code",
   "execution_count": 40,
   "metadata": {
    "collapsed": true
   },
   "outputs": [],
   "source": [
    "def optimize_theta(x, y, kernel, params_0=[0.1, 0.1], sigma_n=0.1):\n",
    "    def log_pY(theta):\n",
    "        K = np.matrix(kernel(x, x, theta, sigma_n))\n",
    "        f, y_giv_f = find_f(K, y, 100)\n",
    "        W = calculate_W(f, y)\n",
    "        inv_k = np.linalg.inv(K)\n",
    "        log_k = np.log(np.linalg.det(K) * np.linalg.det(inv_k+W))\n",
    "        Y_giv_f = np.prod(y_giv_f)\n",
    "        output = 0.5 * np.matmul(np.matmul(f.T, inv_k),f)\n",
    "        output += 0.5 * log_k\n",
    "        output -= np.log(Y_giv_f)\n",
    "        return output\n",
    "\n",
    "    res = minimize(log_pY, params_0, method='nelder-mead', options={'xtol': 1e-8, 'disp': False})\n",
    "    return list(res.x) + [sigma_n]"
   ]
  },
  {
   "cell_type": "code",
   "execution_count": null,
   "metadata": {
    "collapsed": true
   },
   "outputs": [],
   "source": []
  },
  {
   "cell_type": "code",
   "execution_count": null,
   "metadata": {
    "collapsed": true
   },
   "outputs": [],
   "source": []
  }
 ],
 "metadata": {
  "kernelspec": {
   "display_name": "Python 3",
   "language": "python",
   "name": "python3"
  },
  "language_info": {
   "codemirror_mode": {
    "name": "ipython",
    "version": 3
   },
   "file_extension": ".py",
   "mimetype": "text/x-python",
   "name": "python",
   "nbconvert_exporter": "python",
   "pygments_lexer": "ipython3",
   "version": "3.6.2"
  }
 },
 "nbformat": 4,
 "nbformat_minor": 2
}
