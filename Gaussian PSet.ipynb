{
 "cells": [
  {
   "cell_type": "markdown",
   "metadata": {},
   "source": [
    "# Problem Set - Gaussian Processes "
   ]
  },
  {
   "cell_type": "code",
   "execution_count": 3,
   "metadata": {},
   "outputs": [],
   "source": [
    "import numpy as np\n",
    "import matplotlib.pyplot as plt"
   ]
  },
  {
   "cell_type": "markdown",
   "metadata": {},
   "source": [
    "## Gaussian Processes##\n",
    "\n",
    "In this problem set, you will gain a deeper understanding of how gaussian processes work by working on building a small library for guassian regression and classification. If you are having serious problems with this Pset please feel free to ask on Piazza or refer to [G](file/molecules/ethanol.mol)"
   ]
  },
  {
   "cell_type": "code",
   "execution_count": null,
   "metadata": {},
   "outputs": [],
   "source": [
    "## Gaussian Processes##\n",
    "\n",
    "In this problem set, your task is to model a selection of planning problems from a given description, as well as from your own experience. The language you should use is PDDL 2.1 and PDDL 2.2.\n",
    "\n",
    "To make the task of modelling easier, the end of this problem set contains an optional set of instructions for using an online PDDL editor that gives you syntax highlighting, some autocomplete features, etc. You are not required to use this, but it may help.\n",
    "\n",
    "There are many ways to model any problem. You should strive to be as efficient and clear as you can with your models, and your mark will reflect how successful you are.\n",
    "\n",
    "There are two parts to this problem. In the first part, you’ll be asked to model a Star Trek scenario in PDDL. This is meant to get you warmed up with PDDL. In the second exercise, you’ll be asked to model some real-world scenario of your choosing in PDDL."
   ]
  }
 ],
 "metadata": {
  "kernelspec": {
   "display_name": "Python 3",
   "language": "python",
   "name": "python3"
  },
  "language_info": {
   "codemirror_mode": {
    "name": "ipython",
    "version": 3
   },
   "file_extension": ".py",
   "mimetype": "text/x-python",
   "name": "python",
   "nbconvert_exporter": "python",
   "pygments_lexer": "ipython3",
   "version": "3.6.2"
  }
 },
 "nbformat": 4,
 "nbformat_minor": 2
}
