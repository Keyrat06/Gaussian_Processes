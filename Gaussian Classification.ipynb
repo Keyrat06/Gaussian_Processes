{
 "cells": [
  {
   "cell_type": "code",
   "execution_count": 1,
   "metadata": {},
   "outputs": [],
   "source": [
    "import numpy as np\n",
    "import matplotlib.pyplot as plt"
   ]
  },
  {
   "cell_type": "code",
   "execution_count": 2,
   "metadata": {},
   "outputs": [],
   "source": [
    "def kernal(x, y, params, sigma_n):\n",
    "    diff = np.subtract.outer(x, y)\n",
    "    value = params[0] * np.exp( -0.5 * params[1] *diff**2)\n",
    "    value[np.where(diff == 0.0)] += sigma_n\n",
    "    return value"
   ]
  },
  {
   "cell_type": "code",
   "execution_count": 12,
   "metadata": {},
   "outputs": [],
   "source": [
    "x = np.random.choice(np.linspace(-10, 10, 100), 30, replace=False)\n",
    "y = -1 * np.ones(30)\n",
    "y[np.where(abs(x)<3)] = 1"
   ]
  },
  {
   "cell_type": "code",
   "execution_count": 29,
   "metadata": {},
   "outputs": [
    {
     "data": {
      "image/png": "[encoded data removed]",
      "text/plain": [
       "<matplotlib.figure.Figure at 0x1094a2390>"
      ]
     },
     "metadata": {},
     "output_type": "display_data"
    }
   ],
   "source": [
    "for i in range(len(x)):\n",
    "    if y[i] > 0:\n",
    "        plt.scatter(x[i], y[i], marker='+', color='g')\n",
    "    else:\n",
    "        plt.scatter(x[i], y[i], marker='o', color='r')\n",
    "plt.show()"
   ]
  },
  {
   "cell_type": "code",
   "execution_count": null,
   "metadata": {},
   "outputs": [],
   "source": [
    "theta = [1.0, 0.5, 0.2]\n"
   ]
  }
 ],
 "metadata": {
  "kernelspec": {
   "display_name": "default_python2",
   "language": "python",
   "name": "default_python2"
  },
  "language_info": {
   "codemirror_mode": {
    "name": "ipython",
    "version": 2
   },
   "file_extension": ".py",
   "mimetype": "text/x-python",
   "name": "python",
   "nbconvert_exporter": "python",
   "pygments_lexer": "ipython2",
   "version": "2.7.12"
  }
 },
 "nbformat": 4,
 "nbformat_minor": 2
}
