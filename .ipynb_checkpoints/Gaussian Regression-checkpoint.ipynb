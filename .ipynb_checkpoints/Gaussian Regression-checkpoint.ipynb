{
 "cells": [
  {
   "cell_type": "code",
   "execution_count": 1,
   "metadata": {},
   "outputs": [],
   "source": [
    "import numpy as np\n",
    "import matplotlib.pyplot as plt\n",
    "from scipy.optimize import minimize\n",
    "\n",
    "def kernal(x, y, params, sigma_n):\n",
    "    diff = np.subtract.outer(x, y)\n",
    "    value = params[0]**2 * np.exp( -0.5 * (1.0/params[1]**2) * diff**2)\n",
    "    value[np.where(diff == 0.0)] += sigma_n\n",
    "    return value"
   ]
  },
  {
   "cell_type": "code",
   "execution_count": 2,
   "metadata": {},
   "outputs": [],
   "source": [
    "def GP(x_new, x, y, kernal, theta):\n",
    "    K = kernal(x, x, theta[:-1], theta[-1]) # K\n",
    "    KS = kernal(x_new, x, theta[:-1], theta[-1]) # K*\n",
    "    KSS = kernal(x_new, x_new, theta[:-1], theta[-1]) # K**\n",
    "\n",
    "    y = np.matmul(np.matmul(KS, np.linalg.inv(K)),y)\n",
    "    var = KSS - KS.dot(np.linalg.inv(K).dot(KS.T))\n",
    "    var = np.diagonal(var)\n",
    "    return(y.squeeze(), var.squeeze())"
   ]
  },
  {
   "cell_type": "code",
   "execution_count": 3,
   "metadata": {},
   "outputs": [],
   "source": [
    "def pretty_plot(fig, axs, xlim=(-15,15), ylim=(-3,3), size=(10,10)):\n",
    "    plt.ylim(ylim)\n",
    "    plt.xlim(xlim)\n",
    "    fig.set_size_inches(size)\n",
    "    plt.show()"
   ]
  },
  {
   "cell_type": "code",
   "execution_count": 4,
   "metadata": {},
   "outputs": [
    {
     "ename": "IndentationError",
     "evalue": "expected an indented block (<ipython-input-4-aedb2a56365b>, line 7)",
     "output_type": "error",
     "traceback": [
      "\u001b[0;36m  File \u001b[0;32m\"<ipython-input-4-aedb2a56365b>\"\u001b[0;36m, line \u001b[0;32m7\u001b[0m\n\u001b[0;31m    def log_pY(theta):\u001b[0m\n\u001b[0m      ^\u001b[0m\n\u001b[0;31mIndentationError\u001b[0m\u001b[0;31m:\u001b[0m expected an indented block\n"
     ]
    }
   ],
   "source": [
    "def get_low_and_high(y_bar, var):\n",
    "    sigma = np.sqrt(var)\n",
    "    y_low = y_bar - 1.96 * sigma\n",
    "    y_high = y_bar + 1.96 * sigma\n",
    "    return y_low, y_high\n",
    "\n",
    "def optimize_theta(x, y, sigma_n, kernal, params_0=[0.1, 0.1]):\n",
    "    def log_pY(theta):\n",
    "        K = np.matrix(kernal(x, x, theta, sigma_n))\n",
    "        log_k = np.log(np.linalg.norm(K))\n",
    "        output = 0.5 * np.log(np.matmul(np.matmul(y.T, np.linalg.inv(K)),y))\n",
    "        output += 0.5 * log_k\n",
    "        return output\n",
    "\n",
    "    res = minimize(log_pY, params_0, method='nelder-mead', options={'xtol': 1e-8, 'disp': False})\n",
    "    return list(res.x) + [sigma_n]"
   ]
  },
  {
   "cell_type": "code",
   "execution_count": null,
   "metadata": {},
   "outputs": [],
   "source": [
    "def kernal_2(x, y, params, sigma_n):\n",
    "    diff = np.subtract.outer(x, y)\n",
    "    value = params[0]**2 * np.exp( -0.5 * (1.0/params[1]**2) *diff**2)\n",
    "    value += params[2]**2 * np.exp( -0.5 * (1.0/params[3]**2) *diff**2)\n",
    "    value[np.where(diff == 0.0)] += sigma_n\n",
    "    return value"
   ]
  },
  {
   "cell_type": "code",
   "execution_count": null,
   "metadata": {},
   "outputs": [],
   "source": [
    "x = np.linspace(-10, 10, 100)\n",
    "y = 0.1 * x + 0.3 * np.random.normal(0,1,len(x))\n",
    "\n",
    "fig, axs = plt.subplots(1, 1)\n",
    "axs.scatter(x, y)\n",
    "pretty_plot(fig, axs)"
   ]
  },
  {
   "cell_type": "code",
   "execution_count": null,
   "metadata": {},
   "outputs": [],
   "source": [
    "x_new = np.linspace(-12, 12, 300)\n",
    "sigma_n = 0.3\n",
    "theta = [1, 4, sigma_n]\n",
    "y_bar, var = GP(x_new, x, y, kernal, theta)\n",
    "y_low, y_high = get_low_and_high(y_bar, var)\n",
    "\n",
    "fig, axs = plt.subplots(1, 1)\n",
    "axs.fill_between(x_new, y_low, y_high, alpha=0.5, color='r')\n",
    "axs.scatter(x, y, color='b')\n",
    "axs.plot(x_new, y_bar,  color='k')\n",
    "pretty_plot(fig, axs)"
   ]
  },
  {
   "cell_type": "code",
   "execution_count": null,
   "metadata": {},
   "outputs": [],
   "source": [
    "x = np.linspace(-10, 10, 100)\n",
    "y = np.cos(np.pi/5 * x) + 0.3 * np.random.normal(0,1,len(x))\n",
    "\n",
    "fig, axs = plt.subplots(1, 1)\n",
    "axs.scatter(x, y)\n",
    "pretty_plot(fig, axs)"
   ]
  },
  {
   "cell_type": "code",
   "execution_count": null,
   "metadata": {},
   "outputs": [],
   "source": [
    "x_new = np.linspace(-12, 12, 300)\n",
    "sigma_n = 0.3\n",
    "theta = [0.5, 2, sigma_n]\n",
    "y_bar, var = GP(x_new, x, y, kernal, theta)\n",
    "y_low, y_high = get_low_and_high(y_bar, var)\n",
    "\n",
    "fig, axs = plt.subplots(1, 1)\n",
    "axs.fill_between(x_new, y_low, y_high, alpha=0.5, color='r')\n",
    "axs.scatter(x, y, color='b')\n",
    "axs.plot(x_new, y_bar,  color='k')\n",
    "pretty_plot(fig, axs)"
   ]
  },
  {
   "cell_type": "code",
   "execution_count": null,
   "metadata": {},
   "outputs": [],
   "source": [
    "x = np.linspace(-10, 10, 300)\n",
    "np.random.shuffle(x)\n",
    "x = x[0:40]\n",
    "x.sort()\n",
    "y = np.cos(np.pi/10 * x) + np.cos(np.pi/2 * x) + 0.2 * np.random.normal(0,1,len(x))\n",
    "\n",
    "fig, axs = plt.subplots(1, 1)\n",
    "axs.scatter(x, y)\n",
    "pretty_plot(fig, axs)"
   ]
  },
  {
   "cell_type": "code",
   "execution_count": null,
   "metadata": {},
   "outputs": [],
   "source": [
    "x_new = np.linspace(-15, 15, 300)\n",
    "sigma_n = 0.2\n",
    "theta = [1, 4, sigma_n]\n",
    "y_bar, var = GP(x_new, x, y, kernal, theta)\n",
    "y_low, y_high = get_low_and_high(y_bar, var)\n",
    "\n",
    "fig, axs = plt.subplots(1, 1)\n",
    "axs.fill_between(x_new, y_low, y_high, alpha=0.5, color='r')\n",
    "axs.scatter(x, y, color='b')\n",
    "axs.plot(x_new, y_bar,  color='k')\n",
    "pretty_plot(fig, axs)"
   ]
  },
  {
   "cell_type": "code",
   "execution_count": null,
   "metadata": {},
   "outputs": [],
   "source": []
  },
  {
   "cell_type": "code",
   "execution_count": null,
   "metadata": {},
   "outputs": [],
   "source": [
    "x_new = np.linspace(-15, 15, 300)\n",
    "sigma_n = 0.2\n",
    "theta = [0.5, 4, 0.5, 0.5, sigma_n]\n",
    "y_bar, var = GP(x_new, x, y, kernal_2, theta)\n",
    "y_low, y_high = get_low_and_high(y_bar, var)\n",
    "\n",
    "fig, axs = plt.subplots(1, 1)\n",
    "axs.fill_between(x_new, y_low, y_high, alpha=0.5, color='r')\n",
    "axs.scatter(x, y, color='b')\n",
    "axs.plot(x_new, y_bar,  color='k')\n",
    "pretty_plot(fig, axs)"
   ]
  },
  {
   "cell_type": "code",
   "execution_count": null,
   "metadata": {
    "scrolled": true
   },
   "outputs": [],
   "source": [
    "theta = optimize_theta(x, y, 0.2, kernal)\n",
    "x_new = np.linspace(-15, 15, 100)\n",
    "y_bar, var = GP(x_new, x, y, kernal, theta)\n",
    "y_low, y_high = get_low_and_high(y_bar, var)\n",
    "\n",
    "fig, axs = plt.subplots(1, 1)\n",
    "axs.fill_between(x_new, y_low, y_high, alpha=0.5, color='r')\n",
    "axs.scatter(x, y, color='b')\n",
    "axs.plot(x_new, y_bar,  color='k')\n",
    "pretty_plot(fig, axs)"
   ]
  },
  {
   "cell_type": "code",
   "execution_count": null,
   "metadata": {},
   "outputs": [],
   "source": [
    "theta = optimize_theta(x, y, 0.3, kernal_2, params_0=[1, 1, 0.33, 20])\n",
    "x_new = np.linspace(-15, 15, 300)\n",
    "y_bar, var = GP(x_new, x, y, kernal_2, theta)\n",
    "y_low, y_high = get_low_and_high(y_bar, var)\n",
    "\n",
    "fig, axs = plt.subplots(1, 1)\n",
    "axs.fill_between(x_new, y_low, y_high, alpha=0.5, color='r')\n",
    "axs.scatter(x, y, color='b')\n",
    "axs.plot(x_new, y_bar,  color='k')\n",
    "pretty_plot(fig, axs)"
   ]
  },
  {
   "cell_type": "code",
   "execution_count": null,
   "metadata": {},
   "outputs": [],
   "source": []
  }
 ],
 "metadata": {
  "kernelspec": {
   "display_name": "default_python2",
   "language": "python",
   "name": "default_python2"
  },
  "language_info": {
   "codemirror_mode": {
    "name": "ipython",
    "version": 2
   },
   "file_extension": ".py",
   "mimetype": "text/x-python",
   "name": "python",
   "nbconvert_exporter": "python",
   "pygments_lexer": "ipython2",
   "version": "2.7.12"
  }
 },
 "nbformat": 4,
 "nbformat_minor": 2
}
